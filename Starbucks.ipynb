{
 "cells": [
  {
   "cell_type": "code",
   "execution_count": 189,
   "metadata": {},
   "outputs": [],
   "source": [
    "import pandas as pd\n",
    "import numpy as np\n",
    "import seaborn as sns\n",
    "import matplotlib.pyplot as plt\n",
    "import warnings\n",
    "warnings.filterwarnings('ignore')\n",
    "import mglearn \n",
    "plt.rc('font', family='NanumGothic')"
   ]
  },
  {
   "cell_type": "code",
   "execution_count": 61,
   "metadata": {},
   "outputs": [],
   "source": [
    "star=pd.read_csv('ntotal.csv',encoding='cp949')"
   ]
  },
  {
   "cell_type": "code",
   "execution_count": 62,
   "metadata": {},
   "outputs": [
    {
     "data": {
      "text/html": [
       "<div>\n",
       "<style scoped>\n",
       "    .dataframe tbody tr th:only-of-type {\n",
       "        vertical-align: middle;\n",
       "    }\n",
       "\n",
       "    .dataframe tbody tr th {\n",
       "        vertical-align: top;\n",
       "    }\n",
       "\n",
       "    .dataframe thead th {\n",
       "        text-align: right;\n",
       "    }\n",
       "</style>\n",
       "<table border=\"1\" class=\"dataframe\">\n",
       "  <thead>\n",
       "    <tr style=\"text-align: right;\">\n",
       "      <th></th>\n",
       "      <th>dong_code</th>\n",
       "      <th>dong_name</th>\n",
       "      <th>한식음식점업</th>\n",
       "      <th>분식 및 김밥전문점</th>\n",
       "      <th>체인화 편의점</th>\n",
       "      <th>제과점업</th>\n",
       "      <th>starbucks</th>\n",
       "      <th>n_bank</th>\n",
       "      <th>n_starbucks</th>\n",
       "      <th>n_subway</th>\n",
       "      <th>...</th>\n",
       "      <th>Interval_Move_move_out</th>\n",
       "      <th>City-to-city_transport_move_in</th>\n",
       "      <th>City-to-city_transport_move_out</th>\n",
       "      <th>a_single_house</th>\n",
       "      <th>a_multi-family_house</th>\n",
       "      <th>for_business_purposes</th>\n",
       "      <th>apartment</th>\n",
       "      <th>a_row_house</th>\n",
       "      <th>a_multi-family_house.1</th>\n",
       "      <th>House_in_Non-residential_Buildings</th>\n",
       "    </tr>\n",
       "  </thead>\n",
       "  <tbody>\n",
       "    <tr>\n",
       "      <th>0</th>\n",
       "      <td>11710631</td>\n",
       "      <td>가락1동</td>\n",
       "      <td>51</td>\n",
       "      <td>2</td>\n",
       "      <td>2</td>\n",
       "      <td>0</td>\n",
       "      <td>0</td>\n",
       "      <td>5</td>\n",
       "      <td>0</td>\n",
       "      <td>0</td>\n",
       "      <td>...</td>\n",
       "      <td>34</td>\n",
       "      <td>21</td>\n",
       "      <td>51</td>\n",
       "      <td>NaN</td>\n",
       "      <td>NaN</td>\n",
       "      <td>NaN</td>\n",
       "      <td>206.0</td>\n",
       "      <td>NaN</td>\n",
       "      <td>NaN</td>\n",
       "      <td>NaN</td>\n",
       "    </tr>\n",
       "    <tr>\n",
       "      <th>1</th>\n",
       "      <td>11710632</td>\n",
       "      <td>가락2동</td>\n",
       "      <td>90</td>\n",
       "      <td>19</td>\n",
       "      <td>12</td>\n",
       "      <td>14</td>\n",
       "      <td>0</td>\n",
       "      <td>6</td>\n",
       "      <td>0</td>\n",
       "      <td>0</td>\n",
       "      <td>...</td>\n",
       "      <td>1366</td>\n",
       "      <td>1299</td>\n",
       "      <td>1824</td>\n",
       "      <td>NaN</td>\n",
       "      <td>190.0</td>\n",
       "      <td>107.0</td>\n",
       "      <td>6368.0</td>\n",
       "      <td>188.0</td>\n",
       "      <td>2948.0</td>\n",
       "      <td>107.0</td>\n",
       "    </tr>\n",
       "    <tr>\n",
       "      <th>2</th>\n",
       "      <td>11710620</td>\n",
       "      <td>가락본동</td>\n",
       "      <td>246</td>\n",
       "      <td>34</td>\n",
       "      <td>33</td>\n",
       "      <td>15</td>\n",
       "      <td>1</td>\n",
       "      <td>9</td>\n",
       "      <td>4</td>\n",
       "      <td>3</td>\n",
       "      <td>...</td>\n",
       "      <td>1210</td>\n",
       "      <td>1345</td>\n",
       "      <td>1707</td>\n",
       "      <td>NaN</td>\n",
       "      <td>205.0</td>\n",
       "      <td>155.0</td>\n",
       "      <td>4976.0</td>\n",
       "      <td>243.0</td>\n",
       "      <td>2109.0</td>\n",
       "      <td>139.0</td>\n",
       "    </tr>\n",
       "    <tr>\n",
       "      <th>3</th>\n",
       "      <td>11530595</td>\n",
       "      <td>가리봉동</td>\n",
       "      <td>70</td>\n",
       "      <td>7</td>\n",
       "      <td>12</td>\n",
       "      <td>0</td>\n",
       "      <td>0</td>\n",
       "      <td>1</td>\n",
       "      <td>0</td>\n",
       "      <td>0</td>\n",
       "      <td>...</td>\n",
       "      <td>703</td>\n",
       "      <td>493</td>\n",
       "      <td>701</td>\n",
       "      <td>108.0</td>\n",
       "      <td>862.0</td>\n",
       "      <td>105.0</td>\n",
       "      <td>114.0</td>\n",
       "      <td>104.0</td>\n",
       "      <td>902.0</td>\n",
       "      <td>48.0</td>\n",
       "    </tr>\n",
       "    <tr>\n",
       "      <th>4</th>\n",
       "      <td>11545510</td>\n",
       "      <td>가산동</td>\n",
       "      <td>429</td>\n",
       "      <td>77</td>\n",
       "      <td>76</td>\n",
       "      <td>21</td>\n",
       "      <td>1</td>\n",
       "      <td>27</td>\n",
       "      <td>7</td>\n",
       "      <td>2</td>\n",
       "      <td>...</td>\n",
       "      <td>1649</td>\n",
       "      <td>2575</td>\n",
       "      <td>2156</td>\n",
       "      <td>82.0</td>\n",
       "      <td>514.0</td>\n",
       "      <td>125.0</td>\n",
       "      <td>2707.0</td>\n",
       "      <td>193.0</td>\n",
       "      <td>998.0</td>\n",
       "      <td>71.0</td>\n",
       "    </tr>\n",
       "  </tbody>\n",
       "</table>\n",
       "<p>5 rows × 432 columns</p>\n",
       "</div>"
      ],
      "text/plain": [
       "   dong_code dong_name  한식음식점업  분식 및 김밥전문점  체인화 편의점  제과점업  starbucks  n_bank  \\\n",
       "0   11710631      가락1동      51           2        2     0          0       5   \n",
       "1   11710632      가락2동      90          19       12    14          0       6   \n",
       "2   11710620      가락본동     246          34       33    15          1       9   \n",
       "3   11530595      가리봉동      70           7       12     0          0       1   \n",
       "4   11545510       가산동     429          77       76    21          1      27   \n",
       "\n",
       "   n_starbucks  n_subway                 ...                  \\\n",
       "0            0         0                 ...                   \n",
       "1            0         0                 ...                   \n",
       "2            4         3                 ...                   \n",
       "3            0         0                 ...                   \n",
       "4            7         2                 ...                   \n",
       "\n",
       "   Interval_Move_move_out  City-to-city_transport_move_in  \\\n",
       "0                      34                              21   \n",
       "1                    1366                            1299   \n",
       "2                    1210                            1345   \n",
       "3                     703                             493   \n",
       "4                    1649                            2575   \n",
       "\n",
       "   City-to-city_transport_move_out  a_single_house  a_multi-family_house  \\\n",
       "0                               51             NaN                   NaN   \n",
       "1                             1824             NaN                 190.0   \n",
       "2                             1707             NaN                 205.0   \n",
       "3                              701           108.0                 862.0   \n",
       "4                             2156            82.0                 514.0   \n",
       "\n",
       "   for_business_purposes  apartment  a_row_house  a_multi-family_house.1  \\\n",
       "0                    NaN      206.0          NaN                     NaN   \n",
       "1                  107.0     6368.0        188.0                  2948.0   \n",
       "2                  155.0     4976.0        243.0                  2109.0   \n",
       "3                  105.0      114.0        104.0                   902.0   \n",
       "4                  125.0     2707.0        193.0                   998.0   \n",
       "\n",
       "   House_in_Non-residential_Buildings  \n",
       "0                                 NaN  \n",
       "1                               107.0  \n",
       "2                               139.0  \n",
       "3                                48.0  \n",
       "4                                71.0  \n",
       "\n",
       "[5 rows x 432 columns]"
      ]
     },
     "execution_count": 62,
     "metadata": {},
     "output_type": "execute_result"
    }
   ],
   "source": [
    "star.head()"
   ]
  },
  {
   "cell_type": "code",
   "execution_count": 63,
   "metadata": {},
   "outputs": [
    {
     "data": {
      "text/plain": [
       "dong_code                                           0\n",
       "dong_name                                           0\n",
       "한식음식점업                                              0\n",
       "분식 및 김밥전문점                                          0\n",
       "체인화 편의점                                             0\n",
       "제과점업                                                0\n",
       "starbucks                                           0\n",
       "n_bank                                              0\n",
       "n_starbucks                                         0\n",
       "n_subway                                            0\n",
       "male20to24_0                                        0\n",
       "male20to24_1                                        0\n",
       "male20to24_2                                        0\n",
       "male20to24_3                                        0\n",
       "male20to24_4                                        0\n",
       "male20to24_5                                        0\n",
       "male20to24_6                                        0\n",
       "male20to24_7                                        0\n",
       "male20to24_8                                        0\n",
       "male20to24_9                                        0\n",
       "male20to24_10                                       0\n",
       "male20to24_11                                       0\n",
       "male20to24_12                                       0\n",
       "male20to24_13                                       0\n",
       "male20to24_14                                       0\n",
       "male20to24_15                                       0\n",
       "male20to24_16                                       0\n",
       "male20to24_17                                       0\n",
       "male20to24_18                                       0\n",
       "male20to24_19                                       0\n",
       "                                                   ..\n",
       "Total_count__resident_registration_population       0\n",
       "Total_Men_Residents_registration_population         0\n",
       "Total_woman__resident_registration_population       0\n",
       "Korean_types__resident_registration_population      0\n",
       "Korean_Men_Residents_Registration_Population        0\n",
       "Korean_woman__resident_registration_population      0\n",
       "Foreign_types__resident_registration_population     0\n",
       "Number_of_businesses                                0\n",
       "Number_of_employees                                 0\n",
       "Average_employee                                    0\n",
       "business_density                                    0\n",
       "Occupational_Density_(A)                            0\n",
       "Population_density_(B)                              0\n",
       "Occupant_density_ratio                              0\n",
       "Total_move_in                                       0\n",
       "Total_move_out                                      0\n",
       "Total_movement_variation                            0\n",
       "Transfer_to_premises_move_in                        0\n",
       "Transfer_to_premises_move_out                       0\n",
       "Intersection_move_in                                0\n",
       "Interval_Move_move_out                              0\n",
       "City-to-city_transport_move_in                      0\n",
       "City-to-city_transport_move_out                     0\n",
       "a_single_house                                     48\n",
       "a_multi-family_house                               33\n",
       "for_business_purposes                              35\n",
       "apartment                                           2\n",
       "a_row_house                                        51\n",
       "a_multi-family_house.1                             33\n",
       "House_in_Non-residential_Buildings                 34\n",
       "Length: 432, dtype: int64"
      ]
     },
     "execution_count": 63,
     "metadata": {},
     "output_type": "execute_result"
    }
   ],
   "source": [
    "star.isna().sum()"
   ]
  },
  {
   "cell_type": "code",
   "execution_count": 64,
   "metadata": {},
   "outputs": [
    {
     "data": {
      "text/plain": [
       "<matplotlib.axes._subplots.AxesSubplot at 0x1e106b70>"
      ]
     },
     "execution_count": 64,
     "metadata": {},
     "output_type": "execute_result"
    },
    {
     "data": {
      "image/png": "[encoded data removed]",
      "text/plain": [
       "<Figure size 432x288 with 1 Axes>"
      ]
     },
     "metadata": {
      "needs_background": "light"
     },
     "output_type": "display_data"
    }
   ],
   "source": [
    "sns.countplot(data=star, x='starbucks', hue='starbucks')"
   ]
  },
  {
   "cell_type": "code",
   "execution_count": 65,
   "metadata": {},
   "outputs": [
    {
     "data": {
      "text/plain": [
       "<matplotlib.axes._subplots.AxesSubplot at 0x5737cc0>"
      ]
     },
     "execution_count": 65,
     "metadata": {},
     "output_type": "execute_result"
    },
    {
     "data": {
      "image/png": "[encoded data removed]",
      "text/plain": [
       "<Figure size 432x288 with 1 Axes>"
      ]
     },
     "metadata": {
      "needs_background": "light"
     },
     "output_type": "display_data"
    }
   ],
   "source": [
    "sns.distplot(star['starbucks'])"
   ]
  },
  {
   "cell_type": "code",
   "execution_count": 66,
   "metadata": {},
   "outputs": [],
   "source": [
    "import random"
   ]
  },
  {
   "cell_type": "code",
   "execution_count": 67,
   "metadata": {},
   "outputs": [],
   "source": [
    "from random import randint\n",
    "random.seed(12)\n",
    "star=star.fillna(randint(1,5)) # 자료설명을 보면 5 이하의 데이터는 결측값으로 처리하였다고 나와있음"
   ]
  },
  {
   "cell_type": "code",
   "execution_count": 68,
   "metadata": {},
   "outputs": [
    {
     "data": {
      "text/plain": [
       "dong_code                                          0\n",
       "dong_name                                          0\n",
       "한식음식점업                                             0\n",
       "분식 및 김밥전문점                                         0\n",
       "체인화 편의점                                            0\n",
       "제과점업                                               0\n",
       "starbucks                                          0\n",
       "n_bank                                             0\n",
       "n_starbucks                                        0\n",
       "n_subway                                           0\n",
       "male20to24_0                                       0\n",
       "male20to24_1                                       0\n",
       "male20to24_2                                       0\n",
       "male20to24_3                                       0\n",
       "male20to24_4                                       0\n",
       "male20to24_5                                       0\n",
       "male20to24_6                                       0\n",
       "male20to24_7                                       0\n",
       "male20to24_8                                       0\n",
       "male20to24_9                                       0\n",
       "male20to24_10                                      0\n",
       "male20to24_11                                      0\n",
       "male20to24_12                                      0\n",
       "male20to24_13                                      0\n",
       "male20to24_14                                      0\n",
       "male20to24_15                                      0\n",
       "male20to24_16                                      0\n",
       "male20to24_17                                      0\n",
       "male20to24_18                                      0\n",
       "male20to24_19                                      0\n",
       "                                                  ..\n",
       "Total_count__resident_registration_population      0\n",
       "Total_Men_Residents_registration_population        0\n",
       "Total_woman__resident_registration_population      0\n",
       "Korean_types__resident_registration_population     0\n",
       "Korean_Men_Residents_Registration_Population       0\n",
       "Korean_woman__resident_registration_population     0\n",
       "Foreign_types__resident_registration_population    0\n",
       "Number_of_businesses                               0\n",
       "Number_of_employees                                0\n",
       "Average_employee                                   0\n",
       "business_density                                   0\n",
       "Occupational_Density_(A)                           0\n",
       "Population_density_(B)                             0\n",
       "Occupant_density_ratio                             0\n",
       "Total_move_in                                      0\n",
       "Total_move_out                                     0\n",
       "Total_movement_variation                           0\n",
       "Transfer_to_premises_move_in                       0\n",
       "Transfer_to_premises_move_out                      0\n",
       "Intersection_move_in                               0\n",
       "Interval_Move_move_out                             0\n",
       "City-to-city_transport_move_in                     0\n",
       "City-to-city_transport_move_out                    0\n",
       "a_single_house                                     0\n",
       "a_multi-family_house                               0\n",
       "for_business_purposes                              0\n",
       "apartment                                          0\n",
       "a_row_house                                        0\n",
       "a_multi-family_house.1                             0\n",
       "House_in_Non-residential_Buildings                 0\n",
       "Length: 432, dtype: int64"
      ]
     },
     "execution_count": 68,
     "metadata": {},
     "output_type": "execute_result"
    }
   ],
   "source": [
    "star.isna().sum()"
   ]
  },
  {
   "cell_type": "code",
   "execution_count": 69,
   "metadata": {},
   "outputs": [],
   "source": [
    "#star=star.drop(['dong_code','dong_name','danger_name','n_starbucks'],axis=1)"
   ]
  },
  {
   "cell_type": "code",
   "execution_count": 70,
   "metadata": {},
   "outputs": [],
   "source": [
    "st=star.drop(['dong_name','dong_code','n_starbucks','danger_name'],axis=1)"
   ]
  },
  {
   "cell_type": "code",
   "execution_count": 71,
   "metadata": {},
   "outputs": [
    {
     "data": {
      "text/html": [
       "<div>\n",
       "<style scoped>\n",
       "    .dataframe tbody tr th:only-of-type {\n",
       "        vertical-align: middle;\n",
       "    }\n",
       "\n",
       "    .dataframe tbody tr th {\n",
       "        vertical-align: top;\n",
       "    }\n",
       "\n",
       "    .dataframe thead th {\n",
       "        text-align: right;\n",
       "    }\n",
       "</style>\n",
       "<table border=\"1\" class=\"dataframe\">\n",
       "  <thead>\n",
       "    <tr style=\"text-align: right;\">\n",
       "      <th></th>\n",
       "      <th>한식음식점업</th>\n",
       "      <th>분식 및 김밥전문점</th>\n",
       "      <th>체인화 편의점</th>\n",
       "      <th>제과점업</th>\n",
       "      <th>starbucks</th>\n",
       "      <th>n_bank</th>\n",
       "      <th>n_subway</th>\n",
       "      <th>male20to24_0</th>\n",
       "      <th>male20to24_1</th>\n",
       "      <th>male20to24_2</th>\n",
       "      <th>...</th>\n",
       "      <th>Interval_Move_move_out</th>\n",
       "      <th>City-to-city_transport_move_in</th>\n",
       "      <th>City-to-city_transport_move_out</th>\n",
       "      <th>a_single_house</th>\n",
       "      <th>a_multi-family_house</th>\n",
       "      <th>for_business_purposes</th>\n",
       "      <th>apartment</th>\n",
       "      <th>a_row_house</th>\n",
       "      <th>a_multi-family_house.1</th>\n",
       "      <th>House_in_Non-residential_Buildings</th>\n",
       "    </tr>\n",
       "  </thead>\n",
       "  <tbody>\n",
       "    <tr>\n",
       "      <th>0</th>\n",
       "      <td>51</td>\n",
       "      <td>2</td>\n",
       "      <td>2</td>\n",
       "      <td>0</td>\n",
       "      <td>0</td>\n",
       "      <td>5</td>\n",
       "      <td>0</td>\n",
       "      <td>3237</td>\n",
       "      <td>3530</td>\n",
       "      <td>3527</td>\n",
       "      <td>...</td>\n",
       "      <td>34</td>\n",
       "      <td>21</td>\n",
       "      <td>51</td>\n",
       "      <td>4.0</td>\n",
       "      <td>4.0</td>\n",
       "      <td>4.0</td>\n",
       "      <td>206.0</td>\n",
       "      <td>4.0</td>\n",
       "      <td>4.0</td>\n",
       "      <td>4.0</td>\n",
       "    </tr>\n",
       "    <tr>\n",
       "      <th>1</th>\n",
       "      <td>90</td>\n",
       "      <td>19</td>\n",
       "      <td>12</td>\n",
       "      <td>14</td>\n",
       "      <td>0</td>\n",
       "      <td>6</td>\n",
       "      <td>0</td>\n",
       "      <td>23447</td>\n",
       "      <td>23664</td>\n",
       "      <td>23750</td>\n",
       "      <td>...</td>\n",
       "      <td>1366</td>\n",
       "      <td>1299</td>\n",
       "      <td>1824</td>\n",
       "      <td>4.0</td>\n",
       "      <td>190.0</td>\n",
       "      <td>107.0</td>\n",
       "      <td>6368.0</td>\n",
       "      <td>188.0</td>\n",
       "      <td>2948.0</td>\n",
       "      <td>107.0</td>\n",
       "    </tr>\n",
       "    <tr>\n",
       "      <th>2</th>\n",
       "      <td>246</td>\n",
       "      <td>34</td>\n",
       "      <td>33</td>\n",
       "      <td>15</td>\n",
       "      <td>1</td>\n",
       "      <td>9</td>\n",
       "      <td>3</td>\n",
       "      <td>30839</td>\n",
       "      <td>31284</td>\n",
       "      <td>31593</td>\n",
       "      <td>...</td>\n",
       "      <td>1210</td>\n",
       "      <td>1345</td>\n",
       "      <td>1707</td>\n",
       "      <td>4.0</td>\n",
       "      <td>205.0</td>\n",
       "      <td>155.0</td>\n",
       "      <td>4976.0</td>\n",
       "      <td>243.0</td>\n",
       "      <td>2109.0</td>\n",
       "      <td>139.0</td>\n",
       "    </tr>\n",
       "    <tr>\n",
       "      <th>3</th>\n",
       "      <td>70</td>\n",
       "      <td>7</td>\n",
       "      <td>12</td>\n",
       "      <td>0</td>\n",
       "      <td>0</td>\n",
       "      <td>1</td>\n",
       "      <td>0</td>\n",
       "      <td>5772</td>\n",
       "      <td>5665</td>\n",
       "      <td>5753</td>\n",
       "      <td>...</td>\n",
       "      <td>703</td>\n",
       "      <td>493</td>\n",
       "      <td>701</td>\n",
       "      <td>108.0</td>\n",
       "      <td>862.0</td>\n",
       "      <td>105.0</td>\n",
       "      <td>114.0</td>\n",
       "      <td>104.0</td>\n",
       "      <td>902.0</td>\n",
       "      <td>48.0</td>\n",
       "    </tr>\n",
       "    <tr>\n",
       "      <th>4</th>\n",
       "      <td>429</td>\n",
       "      <td>77</td>\n",
       "      <td>76</td>\n",
       "      <td>21</td>\n",
       "      <td>1</td>\n",
       "      <td>27</td>\n",
       "      <td>2</td>\n",
       "      <td>28906</td>\n",
       "      <td>28693</td>\n",
       "      <td>28853</td>\n",
       "      <td>...</td>\n",
       "      <td>1649</td>\n",
       "      <td>2575</td>\n",
       "      <td>2156</td>\n",
       "      <td>82.0</td>\n",
       "      <td>514.0</td>\n",
       "      <td>125.0</td>\n",
       "      <td>2707.0</td>\n",
       "      <td>193.0</td>\n",
       "      <td>998.0</td>\n",
       "      <td>71.0</td>\n",
       "    </tr>\n",
       "  </tbody>\n",
       "</table>\n",
       "<p>5 rows × 428 columns</p>\n",
       "</div>"
      ],
      "text/plain": [
       "   한식음식점업  분식 및 김밥전문점  체인화 편의점  제과점업  starbucks  n_bank  n_subway  \\\n",
       "0      51           2        2     0          0       5         0   \n",
       "1      90          19       12    14          0       6         0   \n",
       "2     246          34       33    15          1       9         3   \n",
       "3      70           7       12     0          0       1         0   \n",
       "4     429          77       76    21          1      27         2   \n",
       "\n",
       "   male20to24_0  male20to24_1  male20to24_2  \\\n",
       "0          3237          3530          3527   \n",
       "1         23447         23664         23750   \n",
       "2         30839         31284         31593   \n",
       "3          5772          5665          5753   \n",
       "4         28906         28693         28853   \n",
       "\n",
       "                  ...                  Interval_Move_move_out  \\\n",
       "0                 ...                                      34   \n",
       "1                 ...                                    1366   \n",
       "2                 ...                                    1210   \n",
       "3                 ...                                     703   \n",
       "4                 ...                                    1649   \n",
       "\n",
       "   City-to-city_transport_move_in  City-to-city_transport_move_out  \\\n",
       "0                              21                               51   \n",
       "1                            1299                             1824   \n",
       "2                            1345                             1707   \n",
       "3                             493                              701   \n",
       "4                            2575                             2156   \n",
       "\n",
       "   a_single_house  a_multi-family_house  for_business_purposes  apartment  \\\n",
       "0             4.0                   4.0                    4.0      206.0   \n",
       "1             4.0                 190.0                  107.0     6368.0   \n",
       "2             4.0                 205.0                  155.0     4976.0   \n",
       "3           108.0                 862.0                  105.0      114.0   \n",
       "4            82.0                 514.0                  125.0     2707.0   \n",
       "\n",
       "   a_row_house  a_multi-family_house.1  House_in_Non-residential_Buildings  \n",
       "0          4.0                     4.0                                 4.0  \n",
       "1        188.0                  2948.0                               107.0  \n",
       "2        243.0                  2109.0                               139.0  \n",
       "3        104.0                   902.0                                48.0  \n",
       "4        193.0                   998.0                                71.0  \n",
       "\n",
       "[5 rows x 428 columns]"
      ]
     },
     "execution_count": 71,
     "metadata": {},
     "output_type": "execute_result"
    }
   ],
   "source": [
    "st.head()"
   ]
  },
  {
   "cell_type": "code",
   "execution_count": 72,
   "metadata": {},
   "outputs": [
    {
     "data": {
      "text/plain": [
       "Index(['한식음식점업', '분식 및 김밥전문점', '체인화 편의점', '제과점업', 'starbucks', 'n_bank',\n",
       "       'n_subway', 'male20to24_0', 'male20to24_1', 'male20to24_2',\n",
       "       ...\n",
       "       'Interval_Move_move_out', 'City-to-city_transport_move_in',\n",
       "       'City-to-city_transport_move_out', 'a_single_house',\n",
       "       'a_multi-family_house', 'for_business_purposes', 'apartment',\n",
       "       'a_row_house', 'a_multi-family_house.1',\n",
       "       'House_in_Non-residential_Buildings'],\n",
       "      dtype='object', length=428)"
      ]
     },
     "execution_count": 72,
     "metadata": {},
     "output_type": "execute_result"
    }
   ],
   "source": [
    "st.columns"
   ]
  },
  {
   "cell_type": "code",
   "execution_count": 79,
   "metadata": {},
   "outputs": [],
   "source": [
    "X = st.iloc[:, st.columns != 'starbucks']\n",
    "y = st.iloc[:, st.columns == 'starbucks']"
   ]
  },
  {
   "cell_type": "code",
   "execution_count": 75,
   "metadata": {},
   "outputs": [],
   "source": [
    "from imblearn.over_sampling import SMOTE # 클래스 불균형 해결 "
   ]
  },
  {
   "cell_type": "code",
   "execution_count": 76,
   "metadata": {},
   "outputs": [],
   "source": [
    "sm=SMOTE(ratio='auto',kind='regular',random_state=10)"
   ]
  },
  {
   "cell_type": "code",
   "execution_count": 80,
   "metadata": {},
   "outputs": [],
   "source": [
    "X_r,y_r=sm.fit_sample(X,y)"
   ]
  },
  {
   "cell_type": "code",
   "execution_count": 81,
   "metadata": {},
   "outputs": [
    {
     "data": {
      "text/plain": [
       "Index(['한식음식점업', '분식 및 김밥전문점', '체인화 편의점', '제과점업', 'n_bank', 'n_subway',\n",
       "       'male20to24_0', 'male20to24_1', 'male20to24_2', 'male20to24_3',\n",
       "       ...\n",
       "       'Interval_Move_move_out', 'City-to-city_transport_move_in',\n",
       "       'City-to-city_transport_move_out', 'a_single_house',\n",
       "       'a_multi-family_house', 'for_business_purposes', 'apartment',\n",
       "       'a_row_house', 'a_multi-family_house.1',\n",
       "       'House_in_Non-residential_Buildings'],\n",
       "      dtype='object', length=427)"
      ]
     },
     "execution_count": 81,
     "metadata": {},
     "output_type": "execute_result"
    }
   ],
   "source": [
    "X.columns"
   ]
  },
  {
   "cell_type": "code",
   "execution_count": 82,
   "metadata": {},
   "outputs": [],
   "source": [
    "X_r=pd.DataFrame(X_r)"
   ]
  },
  {
   "cell_type": "code",
   "execution_count": 83,
   "metadata": {},
   "outputs": [],
   "source": [
    "X_r.columns=X.columns"
   ]
  },
  {
   "cell_type": "code",
   "execution_count": 84,
   "metadata": {},
   "outputs": [
    {
     "data": {
      "text/html": [
       "<div>\n",
       "<style scoped>\n",
       "    .dataframe tbody tr th:only-of-type {\n",
       "        vertical-align: middle;\n",
       "    }\n",
       "\n",
       "    .dataframe tbody tr th {\n",
       "        vertical-align: top;\n",
       "    }\n",
       "\n",
       "    .dataframe thead th {\n",
       "        text-align: right;\n",
       "    }\n",
       "</style>\n",
       "<table border=\"1\" class=\"dataframe\">\n",
       "  <thead>\n",
       "    <tr style=\"text-align: right;\">\n",
       "      <th></th>\n",
       "      <th>한식음식점업</th>\n",
       "      <th>분식 및 김밥전문점</th>\n",
       "      <th>체인화 편의점</th>\n",
       "      <th>제과점업</th>\n",
       "      <th>n_bank</th>\n",
       "      <th>n_subway</th>\n",
       "      <th>male20to24_0</th>\n",
       "      <th>male20to24_1</th>\n",
       "      <th>male20to24_2</th>\n",
       "      <th>male20to24_3</th>\n",
       "      <th>...</th>\n",
       "      <th>Interval_Move_move_out</th>\n",
       "      <th>City-to-city_transport_move_in</th>\n",
       "      <th>City-to-city_transport_move_out</th>\n",
       "      <th>a_single_house</th>\n",
       "      <th>a_multi-family_house</th>\n",
       "      <th>for_business_purposes</th>\n",
       "      <th>apartment</th>\n",
       "      <th>a_row_house</th>\n",
       "      <th>a_multi-family_house.1</th>\n",
       "      <th>House_in_Non-residential_Buildings</th>\n",
       "    </tr>\n",
       "  </thead>\n",
       "  <tbody>\n",
       "    <tr>\n",
       "      <th>0</th>\n",
       "      <td>51.0</td>\n",
       "      <td>2.0</td>\n",
       "      <td>2.0</td>\n",
       "      <td>0.0</td>\n",
       "      <td>5.0</td>\n",
       "      <td>0.0</td>\n",
       "      <td>3237.0</td>\n",
       "      <td>3530.0</td>\n",
       "      <td>3527.0</td>\n",
       "      <td>3495.0</td>\n",
       "      <td>...</td>\n",
       "      <td>34.0</td>\n",
       "      <td>21.0</td>\n",
       "      <td>51.0</td>\n",
       "      <td>4.0</td>\n",
       "      <td>4.0</td>\n",
       "      <td>4.0</td>\n",
       "      <td>206.0</td>\n",
       "      <td>4.0</td>\n",
       "      <td>4.0</td>\n",
       "      <td>4.0</td>\n",
       "    </tr>\n",
       "    <tr>\n",
       "      <th>1</th>\n",
       "      <td>90.0</td>\n",
       "      <td>19.0</td>\n",
       "      <td>12.0</td>\n",
       "      <td>14.0</td>\n",
       "      <td>6.0</td>\n",
       "      <td>0.0</td>\n",
       "      <td>23447.0</td>\n",
       "      <td>23664.0</td>\n",
       "      <td>23750.0</td>\n",
       "      <td>23704.0</td>\n",
       "      <td>...</td>\n",
       "      <td>1366.0</td>\n",
       "      <td>1299.0</td>\n",
       "      <td>1824.0</td>\n",
       "      <td>4.0</td>\n",
       "      <td>190.0</td>\n",
       "      <td>107.0</td>\n",
       "      <td>6368.0</td>\n",
       "      <td>188.0</td>\n",
       "      <td>2948.0</td>\n",
       "      <td>107.0</td>\n",
       "    </tr>\n",
       "    <tr>\n",
       "      <th>2</th>\n",
       "      <td>246.0</td>\n",
       "      <td>34.0</td>\n",
       "      <td>33.0</td>\n",
       "      <td>15.0</td>\n",
       "      <td>9.0</td>\n",
       "      <td>3.0</td>\n",
       "      <td>30839.0</td>\n",
       "      <td>31284.0</td>\n",
       "      <td>31593.0</td>\n",
       "      <td>31687.0</td>\n",
       "      <td>...</td>\n",
       "      <td>1210.0</td>\n",
       "      <td>1345.0</td>\n",
       "      <td>1707.0</td>\n",
       "      <td>4.0</td>\n",
       "      <td>205.0</td>\n",
       "      <td>155.0</td>\n",
       "      <td>4976.0</td>\n",
       "      <td>243.0</td>\n",
       "      <td>2109.0</td>\n",
       "      <td>139.0</td>\n",
       "    </tr>\n",
       "    <tr>\n",
       "      <th>3</th>\n",
       "      <td>70.0</td>\n",
       "      <td>7.0</td>\n",
       "      <td>12.0</td>\n",
       "      <td>0.0</td>\n",
       "      <td>1.0</td>\n",
       "      <td>0.0</td>\n",
       "      <td>5772.0</td>\n",
       "      <td>5665.0</td>\n",
       "      <td>5753.0</td>\n",
       "      <td>5895.0</td>\n",
       "      <td>...</td>\n",
       "      <td>703.0</td>\n",
       "      <td>493.0</td>\n",
       "      <td>701.0</td>\n",
       "      <td>108.0</td>\n",
       "      <td>862.0</td>\n",
       "      <td>105.0</td>\n",
       "      <td>114.0</td>\n",
       "      <td>104.0</td>\n",
       "      <td>902.0</td>\n",
       "      <td>48.0</td>\n",
       "    </tr>\n",
       "    <tr>\n",
       "      <th>4</th>\n",
       "      <td>429.0</td>\n",
       "      <td>77.0</td>\n",
       "      <td>76.0</td>\n",
       "      <td>21.0</td>\n",
       "      <td>27.0</td>\n",
       "      <td>2.0</td>\n",
       "      <td>28906.0</td>\n",
       "      <td>28693.0</td>\n",
       "      <td>28853.0</td>\n",
       "      <td>29173.0</td>\n",
       "      <td>...</td>\n",
       "      <td>1649.0</td>\n",
       "      <td>2575.0</td>\n",
       "      <td>2156.0</td>\n",
       "      <td>82.0</td>\n",
       "      <td>514.0</td>\n",
       "      <td>125.0</td>\n",
       "      <td>2707.0</td>\n",
       "      <td>193.0</td>\n",
       "      <td>998.0</td>\n",
       "      <td>71.0</td>\n",
       "    </tr>\n",
       "  </tbody>\n",
       "</table>\n",
       "<p>5 rows × 427 columns</p>\n",
       "</div>"
      ],
      "text/plain": [
       "   한식음식점업  분식 및 김밥전문점  체인화 편의점  제과점업  n_bank  n_subway  male20to24_0  \\\n",
       "0    51.0         2.0      2.0   0.0     5.0       0.0        3237.0   \n",
       "1    90.0        19.0     12.0  14.0     6.0       0.0       23447.0   \n",
       "2   246.0        34.0     33.0  15.0     9.0       3.0       30839.0   \n",
       "3    70.0         7.0     12.0   0.0     1.0       0.0        5772.0   \n",
       "4   429.0        77.0     76.0  21.0    27.0       2.0       28906.0   \n",
       "\n",
       "   male20to24_1  male20to24_2  male20to24_3  \\\n",
       "0        3530.0        3527.0        3495.0   \n",
       "1       23664.0       23750.0       23704.0   \n",
       "2       31284.0       31593.0       31687.0   \n",
       "3        5665.0        5753.0        5895.0   \n",
       "4       28693.0       28853.0       29173.0   \n",
       "\n",
       "                  ...                  Interval_Move_move_out  \\\n",
       "0                 ...                                    34.0   \n",
       "1                 ...                                  1366.0   \n",
       "2                 ...                                  1210.0   \n",
       "3                 ...                                   703.0   \n",
       "4                 ...                                  1649.0   \n",
       "\n",
       "   City-to-city_transport_move_in  City-to-city_transport_move_out  \\\n",
       "0                            21.0                             51.0   \n",
       "1                          1299.0                           1824.0   \n",
       "2                          1345.0                           1707.0   \n",
       "3                           493.0                            701.0   \n",
       "4                          2575.0                           2156.0   \n",
       "\n",
       "   a_single_house  a_multi-family_house  for_business_purposes  apartment  \\\n",
       "0             4.0                   4.0                    4.0      206.0   \n",
       "1             4.0                 190.0                  107.0     6368.0   \n",
       "2             4.0                 205.0                  155.0     4976.0   \n",
       "3           108.0                 862.0                  105.0      114.0   \n",
       "4            82.0                 514.0                  125.0     2707.0   \n",
       "\n",
       "   a_row_house  a_multi-family_house.1  House_in_Non-residential_Buildings  \n",
       "0          4.0                     4.0                                 4.0  \n",
       "1        188.0                  2948.0                               107.0  \n",
       "2        243.0                  2109.0                               139.0  \n",
       "3        104.0                   902.0                                48.0  \n",
       "4        193.0                   998.0                                71.0  \n",
       "\n",
       "[5 rows x 427 columns]"
      ]
     },
     "execution_count": 84,
     "metadata": {},
     "output_type": "execute_result"
    }
   ],
   "source": [
    "X_r.head()"
   ]
  },
  {
   "cell_type": "code",
   "execution_count": 85,
   "metadata": {},
   "outputs": [],
   "source": [
    "y_r=pd.DataFrame(y_r)"
   ]
  },
  {
   "cell_type": "code",
   "execution_count": 86,
   "metadata": {},
   "outputs": [],
   "source": [
    "y_r.columns=y.columns"
   ]
  },
  {
   "cell_type": "code",
   "execution_count": 87,
   "metadata": {},
   "outputs": [
    {
     "data": {
      "text/plain": [
       "<matplotlib.axes._subplots.AxesSubplot at 0x1bae9ba8>"
      ]
     },
     "execution_count": 87,
     "metadata": {},
     "output_type": "execute_result"
    },
    {
     "data": {
      "image/png": "[encoded data removed]",
      "text/plain": [
       "<Figure size 432x288 with 1 Axes>"
      ]
     },
     "metadata": {
      "needs_background": "light"
     },
     "output_type": "display_data"
    }
   ],
   "source": [
    "sns.countplot(data=y_r, x='starbucks', hue='starbucks')"
   ]
  },
  {
   "cell_type": "code",
   "execution_count": 88,
   "metadata": {},
   "outputs": [
    {
     "data": {
      "text/plain": [
       "<matplotlib.axes._subplots.AxesSubplot at 0x1d648128>"
      ]
     },
     "execution_count": 88,
     "metadata": {},
     "output_type": "execute_result"
    },
    {
     "data": {
      "image/png": "[encoded data removed]",
      "text/plain": [
       "<Figure size 432x288 with 1 Axes>"
      ]
     },
     "metadata": {
      "needs_background": "light"
     },
     "output_type": "display_data"
    }
   ],
   "source": [
    "sns.distplot(y_r['starbucks'])"
   ]
  },
  {
   "cell_type": "code",
   "execution_count": 89,
   "metadata": {},
   "outputs": [
    {
     "data": {
      "text/plain": [
       "(424, 427)"
      ]
     },
     "execution_count": 89,
     "metadata": {},
     "output_type": "execute_result"
    }
   ],
   "source": [
    "X.shape"
   ]
  },
  {
   "cell_type": "code",
   "execution_count": 90,
   "metadata": {},
   "outputs": [
    {
     "data": {
      "text/plain": [
       "(518, 427)"
      ]
     },
     "execution_count": 90,
     "metadata": {},
     "output_type": "execute_result"
    }
   ],
   "source": [
    "X_r.shape"
   ]
  },
  {
   "cell_type": "code",
   "execution_count": 91,
   "metadata": {},
   "outputs": [
    {
     "data": {
      "text/plain": [
       "(424, 1)"
      ]
     },
     "execution_count": 91,
     "metadata": {},
     "output_type": "execute_result"
    }
   ],
   "source": [
    "y.shape"
   ]
  },
  {
   "cell_type": "code",
   "execution_count": 92,
   "metadata": {},
   "outputs": [
    {
     "data": {
      "text/plain": [
       "(518, 1)"
      ]
     },
     "execution_count": 92,
     "metadata": {},
     "output_type": "execute_result"
    }
   ],
   "source": [
    "y_r.shape"
   ]
  },
  {
   "cell_type": "code",
   "execution_count": null,
   "metadata": {},
   "outputs": [],
   "source": [
    "from sklearn.ensemble import RandomForestClassifier\n",
    "from sklearn.svm import SVC\n",
    "from xgboost import XGBClassifier\n",
    "import lightgbm as lgb"
   ]
  },
  {
   "cell_type": "code",
   "execution_count": null,
   "metadata": {},
   "outputs": [],
   "source": [
    "from sklearn.model_selection import GridSearchCV\n",
    "from sklearn.model_selection import cross_val_score\n",
    "from sklearn.feature_selection import RFECV"
   ]
  },
  {
   "cell_type": "code",
   "execution_count": 93,
   "metadata": {},
   "outputs": [],
   "source": [
    "from sklearn.model_selection import train_test_split"
   ]
  },
  {
   "cell_type": "code",
   "execution_count": 94,
   "metadata": {},
   "outputs": [],
   "source": [
    "X_train, X_test, y_train, y_test = train_test_split(X_r,y_r,test_size = 0.3, random_state = 10)"
   ]
  },
  {
   "cell_type": "code",
   "execution_count": 96,
   "metadata": {},
   "outputs": [],
   "source": [
    "clf = RandomForestClassifier(n_estimators=50, random_state=10, n_jobs=-1)\n",
    "clf = clf.fit(X_train, y_train)"
   ]
  },
  {
   "cell_type": "code",
   "execution_count": 190,
   "metadata": {
    "scrolled": true
   },
   "outputs": [
    {
     "data": {
      "image/png": "[encoded data removed]",
      "text/plain": [
       "<Figure size 432x288 with 1 Axes>"
      ]
     },
     "metadata": {
      "needs_background": "light"
     },
     "output_type": "display_data"
    }
   ],
   "source": [
    "pd.Series(data=dict(zip(X_train.columns, clf.feature_importances_))).nlargest(25).plot(kind=\"barh\");"
   ]
  },
  {
   "cell_type": "code",
   "execution_count": 194,
   "metadata": {},
   "outputs": [
    {
     "name": "stdout",
     "output_type": "stream",
     "text": [
      "\n",
      "Classification metrics\n",
      "              precision    recall  f1-score   support\n",
      "\n",
      "           0       0.81      0.70      0.75        79\n",
      "           1       0.73      0.83      0.78        77\n",
      "\n",
      "   micro avg       0.76      0.76      0.76       156\n",
      "   macro avg       0.77      0.76      0.76       156\n",
      "weighted avg       0.77      0.76      0.76       156\n",
      "\n"
     ]
    }
   ],
   "source": [
    "y_pred=clf.predict(X_test)\n",
    "# classification matrix\n",
    "print('\\nClassification metrics')\n",
    "print(classification_report(y_true=y_test, y_pred=y_pred))"
   ]
  },
  {
   "cell_type": "code",
   "execution_count": 168,
   "metadata": {},
   "outputs": [
    {
     "data": {
      "text/plain": [
       "array([ True,  True,  True,  True,  True,  True,  True,  True,  True,\n",
       "        True,  True,  True,  True,  True,  True,  True, False,  True,\n",
       "       False,  True,  True, False, False,  True, False, False, False,\n",
       "        True,  True, False, False, False, False, False, False,  True,\n",
       "       False,  True,  True,  True, False, False,  True,  True, False,\n",
       "        True,  True, False, False, False, False, False, False,  True,\n",
       "        True, False,  True, False, False, False, False, False, False,\n",
       "       False, False, False, False, False, False, False, False, False,\n",
       "       False,  True, False, False, False,  True, False,  True, False,\n",
       "       False, False,  True, False, False,  True, False, False, False,\n",
       "       False, False, False, False, False,  True, False, False, False,\n",
       "       False, False,  True, False, False, False, False, False, False,\n",
       "       False, False,  True, False, False, False, False,  True, False,\n",
       "       False, False, False, False, False, False, False, False, False,\n",
       "        True, False, False,  True, False, False,  True, False, False,\n",
       "       False,  True, False, False,  True, False,  True, False, False,\n",
       "       False, False,  True, False, False,  True, False, False, False,\n",
       "       False, False, False, False, False, False, False, False, False,\n",
       "       False, False,  True, False, False, False,  True, False, False,\n",
       "       False, False, False, False, False, False, False, False, False,\n",
       "       False,  True, False, False,  True, False, False, False,  True,\n",
       "       False, False, False,  True, False, False, False, False, False,\n",
       "       False, False, False, False, False, False, False,  True,  True,\n",
       "       False, False, False, False, False, False,  True,  True,  True,\n",
       "       False, False, False, False, False, False,  True, False, False,\n",
       "       False, False, False, False, False, False, False, False, False,\n",
       "        True, False, False,  True,  True, False,  True, False, False,\n",
       "        True, False, False,  True, False, False, False,  True, False,\n",
       "       False,  True,  True, False, False, False, False, False, False,\n",
       "        True,  True, False, False, False, False, False,  True, False,\n",
       "       False, False, False, False, False, False, False, False, False,\n",
       "       False, False, False, False, False, False, False, False, False,\n",
       "       False, False, False, False, False, False, False, False, False,\n",
       "       False, False, False, False, False, False, False, False, False,\n",
       "        True, False,  True, False, False, False,  True, False,  True,\n",
       "       False, False, False,  True, False, False, False, False, False,\n",
       "       False, False, False,  True,  True, False, False, False,  True,\n",
       "       False, False, False,  True,  True, False, False,  True, False,\n",
       "       False,  True, False, False, False, False, False, False, False,\n",
       "       False, False, False,  True, False, False, False,  True, False,\n",
       "       False,  True, False, False, False, False,  True, False, False,\n",
       "       False, False,  True,  True, False, False, False, False, False,\n",
       "       False, False, False, False, False,  True, False, False, False,\n",
       "       False,  True, False,  True, False,  True,  True,  True,  True,\n",
       "        True, False, False,  True,  True,  True,  True, False,  True,\n",
       "        True,  True,  True,  True,  True,  True,  True,  True,  True,\n",
       "        True,  True,  True,  True,  True,  True,  True,  True,  True,\n",
       "        True,  True,  True,  True])"
      ]
     },
     "execution_count": 168,
     "metadata": {},
     "output_type": "execute_result"
    }
   ],
   "source": [
    "estimator = XGBClassifier(n_jobs=-1,verbose=100,random_state=10, n_estimators=50)\n",
    "selector = RFECV(estimator, step=20, cv=10)\n",
    "selector = selector.fit(X_train, y_train)\n",
    "selector.support_"
   ]
  },
  {
   "cell_type": "code",
   "execution_count": 169,
   "metadata": {},
   "outputs": [
    {
     "name": "stdout",
     "output_type": "stream",
     "text": [
      "Optimal number of features : 127\n"
     ]
    },
    {
     "data": {
      "image/png": "[encoded data removed]",
      "text/plain": [
       "<Figure size 432x288 with 1 Axes>"
      ]
     },
     "metadata": {
      "needs_background": "light"
     },
     "output_type": "display_data"
    }
   ],
   "source": [
    "print(\"Optimal number of features : %d\" % selector.n_features_)\n",
    "\n",
    "# Plot number of features VS. cross-validation scores\n",
    "plt.figure()\n",
    "plt.xlabel(\"Number of features selected(by 100)\")\n",
    "plt.ylabel(\"Cross validation score (nb of correct classifications)\")\n",
    "plt.plot(range(1, len(selector.grid_scores_) + 1), selector.grid_scores_)\n",
    "plt.show()"
   ]
  },
  {
   "cell_type": "code",
   "execution_count": 170,
   "metadata": {},
   "outputs": [],
   "source": [
    "X_train_new=X_train[X_train.columns[selector.support_]]\n",
    "X_test_new=X_test[X_test.columns[selector.support_]]"
   ]
  },
  {
   "cell_type": "code",
   "execution_count": 172,
   "metadata": {},
   "outputs": [],
   "source": [
    "svclassifier = SVC(kernel='poly',random_state=523)\n",
    "svc=svclassifier.fit(X_train_new, y_train)"
   ]
  },
  {
   "cell_type": "code",
   "execution_count": 173,
   "metadata": {},
   "outputs": [
    {
     "name": "stdout",
     "output_type": "stream",
     "text": [
      "\n",
      "Classification metrics\n",
      "              precision    recall  f1-score   support\n",
      "\n",
      "           0       0.72      0.70      0.71        79\n",
      "           1       0.70      0.73      0.71        77\n",
      "\n",
      "   micro avg       0.71      0.71      0.71       156\n",
      "   macro avg       0.71      0.71      0.71       156\n",
      "weighted avg       0.71      0.71      0.71       156\n",
      "\n"
     ]
    }
   ],
   "source": [
    "y_pred_S=svc.predict(X_test_new)\n",
    "# classification matrix\n",
    "print('\\nClassification metrics')\n",
    "print(classification_report(y_true=y_test, y_pred=y_pred_S))"
   ]
  },
  {
   "cell_type": "code",
   "execution_count": 174,
   "metadata": {},
   "outputs": [],
   "source": [
    "n_estimators = [int(x) for x in np.linspace(start = 10, stop = 200, num = 10)]\n",
    "random_state=[int(x) for x in np.linspace(start = 10, stop = 1024, num = 1)]\n",
    "nthread=[int(x) for x in np.linspace(start = 10, stop = 1024, num = 1)]\n",
    "booster='gbtree','gblinear','dart'\n",
    "param_grid = dict(n_estimators=n_estimators,random_state=random_state,booster=booster,nthread=nthread)"
   ]
  },
  {
   "cell_type": "code",
   "execution_count": 175,
   "metadata": {},
   "outputs": [],
   "source": [
    "xgb= XGBClassifier()\n",
    "grid_search = GridSearchCV(xgb, param_grid, n_jobs=-1)\n",
    "grid_result = grid_search.fit(X_train_new, y_train)"
   ]
  },
  {
   "cell_type": "code",
   "execution_count": 176,
   "metadata": {},
   "outputs": [
    {
     "data": {
      "text/plain": [
       "XGBClassifier(base_score=0.5, booster='gbtree', colsample_bylevel=1,\n",
       "       colsample_bytree=1, gamma=0, learning_rate=0.1, max_delta_step=0,\n",
       "       max_depth=3, min_child_weight=1, missing=None, n_estimators=157,\n",
       "       n_jobs=1, nthread=10, objective='binary:logistic', random_state=10,\n",
       "       reg_alpha=0, reg_lambda=1, scale_pos_weight=1, seed=None,\n",
       "       silent=True, subsample=1)"
      ]
     },
     "execution_count": 176,
     "metadata": {},
     "output_type": "execute_result"
    }
   ],
   "source": [
    "grid_result.best_estimator_"
   ]
  },
  {
   "cell_type": "code",
   "execution_count": 177,
   "metadata": {},
   "outputs": [],
   "source": [
    "xgb=XGBClassifier(base_score=0.5, booster='gbtree', colsample_bylevel=1,\n",
    "       colsample_bytree=1, gamma=0, learning_rate=0.1, max_delta_step=0,\n",
    "       max_depth=3, min_child_weight=1, missing=None, n_estimators=157,\n",
    "       n_jobs=1, nthread=10, objective='binary:logistic', random_state=10,\n",
    "       reg_alpha=0, reg_lambda=1, scale_pos_weight=1, seed=None,\n",
    "       silent=True, subsample=1)"
   ]
  },
  {
   "cell_type": "code",
   "execution_count": 178,
   "metadata": {
    "scrolled": true
   },
   "outputs": [
    {
     "name": "stdout",
     "output_type": "stream",
     "text": [
      "Scores = [0.86486486 0.72972973 0.86111111 0.61111111 0.77777778 0.80555556\n",
      " 0.88888889 0.77777778 0.77777778 0.80555556]\n",
      "CV accuracy: 0.790 +/- 0.076\n"
     ]
    }
   ],
   "source": [
    "xgb_scores = cross_val_score(xgb, X_train_new, y_train, cv=10)\n",
    "print('Scores =', xgb_scores)\n",
    "print('CV accuracy: %.3f +/- %.3f' % (np.mean(xgb_scores), np.std(xgb_scores)))"
   ]
  },
  {
   "cell_type": "code",
   "execution_count": 179,
   "metadata": {},
   "outputs": [],
   "source": [
    "xgb_model=xgb.fit(X_train_new, y_train)"
   ]
  },
  {
   "cell_type": "code",
   "execution_count": 180,
   "metadata": {},
   "outputs": [
    {
     "name": "stdout",
     "output_type": "stream",
     "text": [
      "\n",
      "Classification metrics\n",
      "              precision    recall  f1-score   support\n",
      "\n",
      "           0       0.84      0.77      0.80        79\n",
      "           1       0.78      0.84      0.81        77\n",
      "\n",
      "   micro avg       0.81      0.81      0.81       156\n",
      "   macro avg       0.81      0.81      0.81       156\n",
      "weighted avg       0.81      0.81      0.81       156\n",
      "\n"
     ]
    }
   ],
   "source": [
    "y_pred=xgb_model.predict(X_test_new)\n",
    "# classification matrix\n",
    "print('\\nClassification metrics')\n",
    "print(classification_report(y_true=y_test, y_pred=y_pred))"
   ]
  },
  {
   "cell_type": "code",
   "execution_count": 191,
   "metadata": {
    "scrolled": true
   },
   "outputs": [
    {
     "data": {
      "image/png": "[encoded data removed]",
      "text/plain": [
       "<Figure size 432x288 with 1 Axes>"
      ]
     },
     "metadata": {
      "needs_background": "light"
     },
     "output_type": "display_data"
    }
   ],
   "source": [
    "pd.Series(data=dict(zip(X_train_new.columns, xgb.feature_importances_))).nlargest(25).plot(kind=\"barh\");"
   ]
  },
  {
   "cell_type": "code",
   "execution_count": 182,
   "metadata": {},
   "outputs": [],
   "source": [
    "lgbm=lgb.LGBMClassifier()\n",
    "grid_search = GridSearchCV(lgbm, param_grid, n_jobs=-1)\n",
    "grid_result = grid_search.fit(X_train_new, y_train)"
   ]
  },
  {
   "cell_type": "code",
   "execution_count": 183,
   "metadata": {},
   "outputs": [
    {
     "data": {
      "text/plain": [
       "LGBMClassifier(booster='gbtree', boosting_type='gbdt', class_weight=None,\n",
       "        colsample_bytree=1.0, importance_type='split', learning_rate=0.1,\n",
       "        max_depth=-1, min_child_samples=20, min_child_weight=0.001,\n",
       "        min_split_gain=0.0, n_estimators=115, n_jobs=-1, nthread=10,\n",
       "        num_leaves=31, objective=None, random_state=10, reg_alpha=0.0,\n",
       "        reg_lambda=0.0, silent=True, subsample=1.0,\n",
       "        subsample_for_bin=200000, subsample_freq=0)"
      ]
     },
     "execution_count": 183,
     "metadata": {},
     "output_type": "execute_result"
    }
   ],
   "source": [
    "grid_result.best_estimator_"
   ]
  },
  {
   "cell_type": "code",
   "execution_count": 184,
   "metadata": {},
   "outputs": [],
   "source": [
    "lgbm = lgb.LGBMClassifier(booster='gbtree', boosting_type='gbdt', class_weight=None,\n",
    "        colsample_bytree=1.0, importance_type='split', learning_rate=0.1,\n",
    "        max_depth=-1, min_child_samples=20, min_child_weight=0.001,\n",
    "        min_split_gain=0.0, n_estimators=73, n_jobs=-1, nthread=10,\n",
    "        num_leaves=31, objective=None, random_state=10, reg_alpha=0.0,\n",
    "        reg_lambda=0.0, silent=True, subsample=1.0,\n",
    "        subsample_for_bin=200000, subsample_freq=0)"
   ]
  },
  {
   "cell_type": "code",
   "execution_count": 185,
   "metadata": {},
   "outputs": [
    {
     "name": "stdout",
     "output_type": "stream",
     "text": [
      "Scores = [0.80821918 0.76712329 0.80555556 0.75       0.81944444]\n",
      "CV accuracy: 0.790 +/- 0.027\n"
     ]
    }
   ],
   "source": [
    "lgbm_scores = cross_val_score(lgbm, X_train_new, y_train,cv=5)\n",
    "print('Scores =', lgbm_scores)\n",
    "print('CV accuracy: %.3f +/- %.3f' % (np.mean(lgbm_scores), np.std(lgbm_scores)))"
   ]
  },
  {
   "cell_type": "code",
   "execution_count": 186,
   "metadata": {},
   "outputs": [],
   "source": [
    "lgb_model=lgbm.fit(X_train_new, y_train)"
   ]
  },
  {
   "cell_type": "code",
   "execution_count": 187,
   "metadata": {},
   "outputs": [
    {
     "name": "stdout",
     "output_type": "stream",
     "text": [
      "\n",
      "Classification metrics\n",
      "              precision    recall  f1-score   support\n",
      "\n",
      "           0       0.82      0.73      0.77        79\n",
      "           1       0.75      0.83      0.79        77\n",
      "\n",
      "   micro avg       0.78      0.78      0.78       156\n",
      "   macro avg       0.78      0.78      0.78       156\n",
      "weighted avg       0.79      0.78      0.78       156\n",
      "\n"
     ]
    }
   ],
   "source": [
    "y_pred_L=lgb_model.predict(X_test_new)\n",
    "# classification matrix\n",
    "print('\\nClassification metrics')\n",
    "print(classification_report(y_true=y_test, y_pred=y_pred_L))"
   ]
  }
 ],
 "metadata": {
  "kernelspec": {
   "display_name": "Python 3",
   "language": "python",
   "name": "python3"
  },
  "language_info": {
   "codemirror_mode": {
    "name": "ipython",
    "version": 3
   },
   "file_extension": ".py",
   "mimetype": "text/x-python",
   "name": "python",
   "nbconvert_exporter": "python",
   "pygments_lexer": "ipython3",
   "version": "3.6.7"
  }
 },
 "nbformat": 4,
 "nbformat_minor": 2
}
